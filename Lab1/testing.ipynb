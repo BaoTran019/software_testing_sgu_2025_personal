{
 "cells": [
  {
   "cell_type": "code",
   "execution_count": null,
   "id": "d167d28b",
   "metadata": {},
   "outputs": [],
   "source": [
    "!./quadric <tc_1.inp >./output/out1.txt/\n",
    "! echo \"Expected: Infinite Solution\""
   ]
  }
 ],
 "metadata": {
  "kernelspec": {
   "display_name": "Python 3",
   "language": "python",
   "name": "python3"
  },
  "language_info": {
   "name": "python",
   "version": "3.12.7"
  }
 },
 "nbformat": 4,
 "nbformat_minor": 5
}
